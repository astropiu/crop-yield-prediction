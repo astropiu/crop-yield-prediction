{
 "cells": [
  {
   "cell_type": "code",
   "execution_count": 1,
   "metadata": {},
   "outputs": [],
   "source": [
    "import pandas as pd\n",
    "import numpy as np\n",
    "import os\n",
    "os.chdir('Downloads\\project\\climate')\n"
   ]
  },
  {
   "cell_type": "code",
   "execution_count": 2,
   "metadata": {},
   "outputs": [
    {
     "name": "stderr",
     "output_type": "stream",
     "text": [
      "C:\\Users\\mohit\\AppData\\Local\\Programs\\Python\\Python36\\lib\\site-packages\\IPython\\core\\interactiveshell.py:3051: DtypeWarning: Columns (3,4,5,6,7,8,9) have mixed types. Specify dtype option on import or set low_memory=False.\n",
      "  interactivity=interactivity, compiler=compiler, result=result)\n"
     ]
    }
   ],
   "source": [
    "cl=pd.read_csv('climate2019.csv')"
   ]
  },
  {
   "cell_type": "code",
   "execution_count": 3,
   "metadata": {},
   "outputs": [],
   "source": [
    "cl=cl.drop([cl.index[270073],cl.index[76153],cl.index[162284],cl.index[215884]])"
   ]
  },
  {
   "cell_type": "code",
   "execution_count": 4,
   "metadata": {},
   "outputs": [],
   "source": [
    "for i in range(3,10):\n",
    "    cl.iloc[:,i]=cl.iloc[:,i].astype('float')"
   ]
  },
  {
   "cell_type": "code",
   "execution_count": 5,
   "metadata": {},
   "outputs": [],
   "source": [
    "cl=cl.drop('Mandal',axis=1).groupby(['District','Date'],as_index=False).mean()"
   ]
  },
  {
   "cell_type": "code",
   "execution_count": 6,
   "metadata": {},
   "outputs": [],
   "source": [
    "dat=[]\n",
    "for date in cl['Date']:\n",
    "    date = date[:10] \n",
    "    date = date.split('-')\n",
    "    if(int(date[1])>9 and int(date[1])<13):\n",
    "        da=date[2]+'-'+date[1]+'-'+date[0]\n",
    "        \n",
    "    else:\n",
    "        da=date[0]+'-'+date[1]+'-'+date[2]\n",
    "    dat.append(da)\n",
    "cl['Date2']=dat        "
   ]
  },
  {
   "cell_type": "code",
   "execution_count": 7,
   "metadata": {},
   "outputs": [
    {
     "data": {
      "text/plain": [
       "364"
      ]
     },
     "execution_count": 7,
     "metadata": {},
     "output_type": "execute_result"
    }
   ],
   "source": [
    "len(set(cl['Date']))"
   ]
  },
  {
   "cell_type": "code",
   "execution_count": 8,
   "metadata": {},
   "outputs": [
    {
     "data": {
      "text/plain": [
       "\"import datetime\\ncl['Date2']=pd.to_datetime(cl['Date2'])\\n\\npd.date_range(start = '2019-01-01', end = '2019-12-31' ).difference(cl['Date2'])\\n\\nlen(set(cl['District']))\""
      ]
     },
     "execution_count": 8,
     "metadata": {},
     "output_type": "execute_result"
    }
   ],
   "source": [
    "\"\"\"import datetime\n",
    "cl['Date2']=pd.to_datetime(cl['Date2'])\n",
    "\n",
    "pd.date_range(start = '2019-01-01', end = '2019-12-31' ).difference(cl['Date2'])\n",
    "\n",
    "len(set(cl['District']))\"\"\""
   ]
  },
  {
   "cell_type": "code",
   "execution_count": 9,
   "metadata": {},
   "outputs": [],
   "source": [
    "i=cl[(cl.District=='Mulug') | (cl.District=='Narayanpet')].index"
   ]
  },
  {
   "cell_type": "code",
   "execution_count": 10,
   "metadata": {},
   "outputs": [],
   "source": [
    "cl=cl.drop(i)"
   ]
  },
  {
   "cell_type": "code",
   "execution_count": 11,
   "metadata": {},
   "outputs": [],
   "source": [
    "cl=cl.replace('Warangal (U)','Warangal Urban')"
   ]
  },
  {
   "cell_type": "code",
   "execution_count": 12,
   "metadata": {},
   "outputs": [],
   "source": [
    "cl=cl.replace('Warangal (R)','Warangal Rural')"
   ]
  },
  {
   "cell_type": "code",
   "execution_count": 13,
   "metadata": {},
   "outputs": [],
   "source": [
    "cl=cl.replace('Kumuram Bheem - Asifabad','Komaram Bheem-Asifabad')"
   ]
  },
  {
   "cell_type": "code",
   "execution_count": 14,
   "metadata": {},
   "outputs": [
    {
     "data": {
      "text/plain": [
       "31"
      ]
     },
     "execution_count": 14,
     "metadata": {},
     "output_type": "execute_result"
    }
   ],
   "source": [
    "len(set(cl['District']))"
   ]
  },
  {
   "cell_type": "code",
   "execution_count": 15,
   "metadata": {},
   "outputs": [],
   "source": [
    "lat=pd.DataFrame(set(cl['District']))"
   ]
  },
  {
   "cell_type": "code",
   "execution_count": 16,
   "metadata": {},
   "outputs": [],
   "source": [
    "cl=cl.drop('Date',axis=1)"
   ]
  },
  {
   "cell_type": "code",
   "execution_count": 17,
   "metadata": {},
   "outputs": [
    {
     "name": "stderr",
     "output_type": "stream",
     "text": [
      "Using TensorFlow backend.\n"
     ]
    }
   ],
   "source": [
    "from keras.models import load_model\n",
    "mod=load_model('../solar_rad_X_50d5_Y_38.h5')"
   ]
  },
  {
   "cell_type": "code",
   "execution_count": 18,
   "metadata": {},
   "outputs": [],
   "source": [
    "cl=cl.rename(columns={'Rainfall (mm)': 'rain (mm)', 'temp_max (⁰C)': 'maxt (oC)', 'temp_min (⁰C)' : 'mint (oC)'})"
   ]
  },
  {
   "cell_type": "code",
   "execution_count": 19,
   "metadata": {},
   "outputs": [],
   "source": [
    "cl['year ()']=2019"
   ]
  },
  {
   "cell_type": "code",
   "execution_count": 20,
   "metadata": {},
   "outputs": [],
   "source": [
    "X=cl[['maxt (oC)','mint (oC)']]\n",
    "\n",
    "\n",
    "X=X/[50,35]\n",
    "\n",
    "y=mod.predict(X)"
   ]
  },
  {
   "cell_type": "code",
   "execution_count": 21,
   "metadata": {},
   "outputs": [
    {
     "name": "stdout",
     "output_type": "stream",
     "text": [
      "Model: \"sequential_1\"\n",
      "_________________________________________________________________\n",
      "Layer (type)                 Output Shape              Param #   \n",
      "=================================================================\n",
      "dense_1 (Dense)              (None, 5)                 15        \n",
      "_________________________________________________________________\n",
      "dense_2 (Dense)              (None, 6)                 36        \n",
      "_________________________________________________________________\n",
      "dense_3 (Dense)              (None, 1)                 7         \n",
      "=================================================================\n",
      "Total params: 58\n",
      "Trainable params: 58\n",
      "Non-trainable params: 0\n",
      "_________________________________________________________________\n"
     ]
    }
   ],
   "source": [
    "mod.summary()"
   ]
  },
  {
   "cell_type": "code",
   "execution_count": 22,
   "metadata": {},
   "outputs": [],
   "source": [
    "y=y*38\n",
    "y\n",
    "\n",
    "cl['radn (MJ/m2)']=y"
   ]
  },
  {
   "cell_type": "code",
   "execution_count": 23,
   "metadata": {},
   "outputs": [],
   "source": [
    "cl2=cl.drop(['Humidity_max (%)','humidity_min (%)', 'wind_speed_min (Kmph)', 'wind_speed_max (Kmph)'],axis=1)"
   ]
  },
  {
   "cell_type": "code",
   "execution_count": 24,
   "metadata": {},
   "outputs": [],
   "source": [
    "cl_end=['Date2']\n",
    "cl2=cl2[[c for c in cl2 if c not in cl_end]+cl_end]"
   ]
  },
  {
   "cell_type": "code",
   "execution_count": 25,
   "metadata": {},
   "outputs": [],
   "source": [
    "cl3=cl.copy()"
   ]
  },
  {
   "cell_type": "code",
   "execution_count": 26,
   "metadata": {},
   "outputs": [
    {
     "data": {
      "text/html": [
       "<div>\n",
       "<style scoped>\n",
       "    .dataframe tbody tr th:only-of-type {\n",
       "        vertical-align: middle;\n",
       "    }\n",
       "\n",
       "    .dataframe tbody tr th {\n",
       "        vertical-align: top;\n",
       "    }\n",
       "\n",
       "    .dataframe thead th {\n",
       "        text-align: right;\n",
       "    }\n",
       "</style>\n",
       "<table border=\"1\" class=\"dataframe\">\n",
       "  <thead>\n",
       "    <tr style=\"text-align: right;\">\n",
       "      <th></th>\n",
       "      <th>District</th>\n",
       "      <th>rain (mm)</th>\n",
       "      <th>mint (oC)</th>\n",
       "      <th>maxt (oC)</th>\n",
       "      <th>year ()</th>\n",
       "      <th>radn (MJ/m2)</th>\n",
       "      <th>Date2</th>\n",
       "      <th>Day</th>\n",
       "    </tr>\n",
       "  </thead>\n",
       "  <tbody>\n",
       "    <tr>\n",
       "      <th>0</th>\n",
       "      <td>Adilabad</td>\n",
       "      <td>0.011111</td>\n",
       "      <td>23.069444</td>\n",
       "      <td>32.608333</td>\n",
       "      <td>2019</td>\n",
       "      <td>21.149967</td>\n",
       "      <td>2019-10-01</td>\n",
       "      <td>0</td>\n",
       "    </tr>\n",
       "    <tr>\n",
       "      <th>1</th>\n",
       "      <td>Adilabad</td>\n",
       "      <td>1.972222</td>\n",
       "      <td>23.672222</td>\n",
       "      <td>30.283333</td>\n",
       "      <td>2019</td>\n",
       "      <td>17.691462</td>\n",
       "      <td>2019-11-01</td>\n",
       "      <td>0</td>\n",
       "    </tr>\n",
       "    <tr>\n",
       "      <th>2</th>\n",
       "      <td>Adilabad</td>\n",
       "      <td>0.000000</td>\n",
       "      <td>16.894444</td>\n",
       "      <td>30.250000</td>\n",
       "      <td>2019</td>\n",
       "      <td>21.499868</td>\n",
       "      <td>2019-12-01</td>\n",
       "      <td>0</td>\n",
       "    </tr>\n",
       "    <tr>\n",
       "      <th>3</th>\n",
       "      <td>Adilabad</td>\n",
       "      <td>0.250000</td>\n",
       "      <td>23.661111</td>\n",
       "      <td>33.438889</td>\n",
       "      <td>2019</td>\n",
       "      <td>21.914776</td>\n",
       "      <td>2019-10-02</td>\n",
       "      <td>0</td>\n",
       "    </tr>\n",
       "    <tr>\n",
       "      <th>4</th>\n",
       "      <td>Adilabad</td>\n",
       "      <td>0.488889</td>\n",
       "      <td>23.411111</td>\n",
       "      <td>31.466667</td>\n",
       "      <td>2019</td>\n",
       "      <td>19.429241</td>\n",
       "      <td>2019-11-02</td>\n",
       "      <td>0</td>\n",
       "    </tr>\n",
       "    <tr>\n",
       "      <th>...</th>\n",
       "      <td>...</td>\n",
       "      <td>...</td>\n",
       "      <td>...</td>\n",
       "      <td>...</td>\n",
       "      <td>...</td>\n",
       "      <td>...</td>\n",
       "      <td>...</td>\n",
       "      <td>...</td>\n",
       "    </tr>\n",
       "    <tr>\n",
       "      <th>11705</th>\n",
       "      <td>Yadadri-Bhongir</td>\n",
       "      <td>4.417647</td>\n",
       "      <td>22.200000</td>\n",
       "      <td>30.982353</td>\n",
       "      <td>2019</td>\n",
       "      <td>19.469625</td>\n",
       "      <td>2019-10-30</td>\n",
       "      <td>0</td>\n",
       "    </tr>\n",
       "    <tr>\n",
       "      <th>11706</th>\n",
       "      <td>Yadadri-Bhongir</td>\n",
       "      <td>0.000000</td>\n",
       "      <td>19.147059</td>\n",
       "      <td>31.411765</td>\n",
       "      <td>2019</td>\n",
       "      <td>21.770239</td>\n",
       "      <td>2019-11-30</td>\n",
       "      <td>0</td>\n",
       "    </tr>\n",
       "    <tr>\n",
       "      <th>11707</th>\n",
       "      <td>Yadadri-Bhongir</td>\n",
       "      <td>0.000000</td>\n",
       "      <td>15.870588</td>\n",
       "      <td>28.697059</td>\n",
       "      <td>2019</td>\n",
       "      <td>20.010345</td>\n",
       "      <td>2019-12-30</td>\n",
       "      <td>0</td>\n",
       "    </tr>\n",
       "    <tr>\n",
       "      <th>11708</th>\n",
       "      <td>Yadadri-Bhongir</td>\n",
       "      <td>0.358824</td>\n",
       "      <td>22.194118</td>\n",
       "      <td>29.870588</td>\n",
       "      <td>2019</td>\n",
       "      <td>17.979435</td>\n",
       "      <td>2019-10-31</td>\n",
       "      <td>0</td>\n",
       "    </tr>\n",
       "    <tr>\n",
       "      <th>11709</th>\n",
       "      <td>Yadadri-Bhongir</td>\n",
       "      <td>0.000000</td>\n",
       "      <td>20.038235</td>\n",
       "      <td>28.118627</td>\n",
       "      <td>2019</td>\n",
       "      <td>16.863174</td>\n",
       "      <td>2019-12-31</td>\n",
       "      <td>0</td>\n",
       "    </tr>\n",
       "  </tbody>\n",
       "</table>\n",
       "<p>11284 rows × 8 columns</p>\n",
       "</div>"
      ],
      "text/plain": [
       "              District  rain (mm)  mint (oC)  maxt (oC)  year ()  \\\n",
       "0             Adilabad   0.011111  23.069444  32.608333     2019   \n",
       "1             Adilabad   1.972222  23.672222  30.283333     2019   \n",
       "2             Adilabad   0.000000  16.894444  30.250000     2019   \n",
       "3             Adilabad   0.250000  23.661111  33.438889     2019   \n",
       "4             Adilabad   0.488889  23.411111  31.466667     2019   \n",
       "...                ...        ...        ...        ...      ...   \n",
       "11705  Yadadri-Bhongir   4.417647  22.200000  30.982353     2019   \n",
       "11706  Yadadri-Bhongir   0.000000  19.147059  31.411765     2019   \n",
       "11707  Yadadri-Bhongir   0.000000  15.870588  28.697059     2019   \n",
       "11708  Yadadri-Bhongir   0.358824  22.194118  29.870588     2019   \n",
       "11709  Yadadri-Bhongir   0.000000  20.038235  28.118627     2019   \n",
       "\n",
       "       radn (MJ/m2)       Date2  Day  \n",
       "0         21.149967  2019-10-01    0  \n",
       "1         17.691462  2019-11-01    0  \n",
       "2         21.499868  2019-12-01    0  \n",
       "3         21.914776  2019-10-02    0  \n",
       "4         19.429241  2019-11-02    0  \n",
       "...             ...         ...  ...  \n",
       "11705     19.469625  2019-10-30    0  \n",
       "11706     21.770239  2019-11-30    0  \n",
       "11707     20.010345  2019-12-30    0  \n",
       "11708     17.979435  2019-10-31    0  \n",
       "11709     16.863174  2019-12-31    0  \n",
       "\n",
       "[11284 rows x 8 columns]"
      ]
     },
     "execution_count": 26,
     "metadata": {},
     "output_type": "execute_result"
    }
   ],
   "source": [
    "cl=cl2.copy()\n",
    "cl['Day']=0\n",
    "cl"
   ]
  },
  {
   "cell_type": "code",
   "execution_count": 27,
   "metadata": {},
   "outputs": [],
   "source": [
    "idx = cl.columns"
   ]
  },
  {
   "cell_type": "code",
   "execution_count": 28,
   "metadata": {},
   "outputs": [
    {
     "data": {
      "text/plain": [
       "Index(['District', 'rain (mm)', 'mint (oC)', 'maxt (oC)', 'year ()',\n",
       "       'radn (MJ/m2)', 'Date2', 'Day'],\n",
       "      dtype='object')"
      ]
     },
     "execution_count": 28,
     "metadata": {},
     "output_type": "execute_result"
    }
   ],
   "source": [
    "idx"
   ]
  },
  {
   "cell_type": "markdown",
   "metadata": {},
   "source": []
  },
  {
   "cell_type": "code",
   "execution_count": 29,
   "metadata": {},
   "outputs": [
    {
     "data": {
      "text/html": [
       "<div>\n",
       "<style scoped>\n",
       "    .dataframe tbody tr th:only-of-type {\n",
       "        vertical-align: middle;\n",
       "    }\n",
       "\n",
       "    .dataframe tbody tr th {\n",
       "        vertical-align: top;\n",
       "    }\n",
       "\n",
       "    .dataframe thead th {\n",
       "        text-align: right;\n",
       "    }\n",
       "</style>\n",
       "<table border=\"1\" class=\"dataframe\">\n",
       "  <thead>\n",
       "    <tr style=\"text-align: right;\">\n",
       "      <th></th>\n",
       "      <th>District</th>\n",
       "      <th>rain (mm)</th>\n",
       "      <th>mint (oC)</th>\n",
       "      <th>maxt (oC)</th>\n",
       "      <th>year ()</th>\n",
       "      <th>radn (MJ/m2)</th>\n",
       "      <th>Date2</th>\n",
       "      <th>Day</th>\n",
       "    </tr>\n",
       "  </thead>\n",
       "  <tbody>\n",
       "  </tbody>\n",
       "</table>\n",
       "</div>"
      ],
      "text/plain": [
       "Empty DataFrame\n",
       "Columns: [District, rain (mm), mint (oC), maxt (oC), year (), radn (MJ/m2), Date2, Day]\n",
       "Index: []"
      ]
     },
     "execution_count": 29,
     "metadata": {},
     "output_type": "execute_result"
    }
   ],
   "source": [
    "df=pd.DataFrame(columns=idx)\n",
    "df"
   ]
  },
  {
   "cell_type": "code",
   "execution_count": 30,
   "metadata": {},
   "outputs": [
    {
     "name": "stdout",
     "output_type": "stream",
     "text": [
      "(365, 8)\n",
      "(365, 8)\n",
      "(365, 8)\n",
      "(365, 8)\n",
      "(365, 8)\n",
      "(365, 8)\n",
      "(365, 8)\n",
      "(365, 8)\n",
      "(365, 8)\n",
      "(365, 8)\n",
      "(365, 8)\n",
      "(365, 8)\n",
      "(365, 8)\n",
      "(365, 8)\n",
      "(365, 8)\n",
      "(365, 8)\n",
      "(365, 8)\n",
      "(365, 8)\n",
      "(365, 8)\n",
      "(365, 8)\n",
      "(365, 8)\n",
      "(365, 8)\n",
      "(365, 8)\n",
      "(365, 8)\n",
      "(365, 8)\n",
      "(365, 8)\n",
      "(365, 8)\n",
      "(365, 8)\n",
      "(365, 8)\n",
      "(365, 8)\n",
      "(365, 8)\n"
     ]
    }
   ],
   "source": [
    "#days for district\n",
    "for i in set(cl['District']):\n",
    "    d=cl[cl['District']==i]\n",
    "    f1=d['Date2']=='2019-09-09'\n",
    "    f2=d['Date2']=='2019-09-11'\n",
    "    s=[]\n",
    "    for p,q in zip(f1,f2):\n",
    "        s.append(p or q)\n",
    "    f3=d[s].iloc[:,1:6]\n",
    "    \n",
    "    mis=f3.mean(axis=0)\n",
    "    \n",
    "    \n",
    "    mis['District']=i\n",
    "    mis['Date2']='2019-09-10'\n",
    "    mis['Day']=0\n",
    "    \n",
    "    #mis=mis.transpose()\n",
    "    mis = pd.DataFrame(mis,index=idx)\n",
    "    \n",
    "    mis=mis.T\n",
    "    \n",
    "    d=pd.concat([mis,d],ignore_index=True)\n",
    "    d=d.sort_values('Date2')\n",
    "    \n",
    "    d['Day'] = list(range(1,366))\n",
    "    print(d.shape)\n",
    "   \n",
    "    df=pd.concat([df,d],ignore_index=True)\n",
    "    \n",
    "    \n",
    "    \n"
   ]
  },
  {
   "cell_type": "code",
   "execution_count": 31,
   "metadata": {},
   "outputs": [],
   "source": [
    "#2018 data\n",
    "w=pd.read_csv('2018_daily_complete_weather_data_0.csv')"
   ]
  },
  {
   "cell_type": "code",
   "execution_count": 32,
   "metadata": {},
   "outputs": [],
   "source": [
    "w=w.drop(['location','row_id','humidity_min','humidity_max','wind_speed_min','wind_speed_max'],axis=1)\n",
    "    "
   ]
  },
  {
   "cell_type": "code",
   "execution_count": 33,
   "metadata": {},
   "outputs": [],
   "source": [
    "w=w.drop('mandal',axis=1).groupby(['district','odate'],as_index=False).mean()"
   ]
  },
  {
   "cell_type": "code",
   "execution_count": 34,
   "metadata": {},
   "outputs": [],
   "source": [
    "w=w.replace('Kumuram Bheem - Asifabad','Komaram Bheem-Asifabad')"
   ]
  },
  {
   "cell_type": "code",
   "execution_count": 35,
   "metadata": {},
   "outputs": [],
   "source": [
    "w=w.replace('Warangal (R)','Warangal Rural')"
   ]
  },
  {
   "cell_type": "code",
   "execution_count": 36,
   "metadata": {},
   "outputs": [],
   "source": [
    "w=w.replace('Warangal (U)','Warangal Urban')"
   ]
  },
  {
   "cell_type": "code",
   "execution_count": 37,
   "metadata": {},
   "outputs": [
    {
     "data": {
      "text/plain": [
       "True"
      ]
     },
     "execution_count": 37,
     "metadata": {},
     "output_type": "execute_result"
    }
   ],
   "source": [
    "set(w['district'])==set(cl['District'])"
   ]
  },
  {
   "cell_type": "code",
   "execution_count": 38,
   "metadata": {},
   "outputs": [],
   "source": [
    "for i in range(2,5):\n",
    "    w.iloc[:,i]=w.iloc[:,i].astype('float')"
   ]
  },
  {
   "cell_type": "code",
   "execution_count": 39,
   "metadata": {},
   "outputs": [],
   "source": [
    "dat=[]\n",
    "for date in w['odate']:\n",
    "    date = date.split('/')\n",
    "  \n",
    "    da='20'+date[2]+'-'+date[1]+'-'+date[0]\n",
    "    dat.append(da)\n",
    "w['Date2']=dat  "
   ]
  },
  {
   "cell_type": "code",
   "execution_count": 40,
   "metadata": {},
   "outputs": [],
   "source": [
    "w=w.rename(columns={'district':'District','cumm_rainfall':'rain (mm)','temp_min':'mint (oC)', 'temp_max':'maxt (oC)'})"
   ]
  },
  {
   "cell_type": "code",
   "execution_count": 41,
   "metadata": {},
   "outputs": [],
   "source": [
    "X=w[['maxt (oC)','mint (oC)']]\n",
    "\n",
    "\n",
    "X=X/[50,35]\n",
    "\n",
    "y=mod.predict(X)"
   ]
  },
  {
   "cell_type": "code",
   "execution_count": 42,
   "metadata": {},
   "outputs": [],
   "source": [
    "y=y*38\n",
    "\n",
    "\n",
    "w['radn (MJ/m2)']=y"
   ]
  },
  {
   "cell_type": "code",
   "execution_count": 43,
   "metadata": {},
   "outputs": [],
   "source": [
    "w['Day']=0\n",
    "for i in set(w['District']):\n",
    "\n",
    "    d=w[w['District']==i]\n",
    "    d=d.sort_values('Date2')\n",
    "    d['Day'] = list(range(1,366))\n",
    "    w.loc[w.District==i]=d\n",
    "    \n",
    "    \n"
   ]
  },
  {
   "cell_type": "code",
   "execution_count": 44,
   "metadata": {},
   "outputs": [],
   "source": [
    "w['Year']=2018"
   ]
  },
  {
   "cell_type": "code",
   "execution_count": 45,
   "metadata": {},
   "outputs": [
    {
     "data": {
      "text/html": [
       "<div>\n",
       "<style scoped>\n",
       "    .dataframe tbody tr th:only-of-type {\n",
       "        vertical-align: middle;\n",
       "    }\n",
       "\n",
       "    .dataframe tbody tr th {\n",
       "        vertical-align: top;\n",
       "    }\n",
       "\n",
       "    .dataframe thead th {\n",
       "        text-align: right;\n",
       "    }\n",
       "</style>\n",
       "<table border=\"1\" class=\"dataframe\">\n",
       "  <thead>\n",
       "    <tr style=\"text-align: right;\">\n",
       "      <th></th>\n",
       "      <th>District</th>\n",
       "    </tr>\n",
       "  </thead>\n",
       "  <tbody>\n",
       "    <tr>\n",
       "      <th>0</th>\n",
       "      <td>Mancherial</td>\n",
       "    </tr>\n",
       "    <tr>\n",
       "      <th>1</th>\n",
       "      <td>Karimnagar</td>\n",
       "    </tr>\n",
       "    <tr>\n",
       "      <th>2</th>\n",
       "      <td>Medchal-Malkajgiri</td>\n",
       "    </tr>\n",
       "    <tr>\n",
       "      <th>3</th>\n",
       "      <td>Hyderabad</td>\n",
       "    </tr>\n",
       "    <tr>\n",
       "      <th>4</th>\n",
       "      <td>Yadadri-Bhongir</td>\n",
       "    </tr>\n",
       "    <tr>\n",
       "      <th>5</th>\n",
       "      <td>Peddapalli</td>\n",
       "    </tr>\n",
       "    <tr>\n",
       "      <th>6</th>\n",
       "      <td>Mahabubnagar</td>\n",
       "    </tr>\n",
       "    <tr>\n",
       "      <th>7</th>\n",
       "      <td>Vikarabad</td>\n",
       "    </tr>\n",
       "    <tr>\n",
       "      <th>8</th>\n",
       "      <td>Rangareddy</td>\n",
       "    </tr>\n",
       "    <tr>\n",
       "      <th>9</th>\n",
       "      <td>Bhadradri-Kothagudem</td>\n",
       "    </tr>\n",
       "    <tr>\n",
       "      <th>10</th>\n",
       "      <td>Adilabad</td>\n",
       "    </tr>\n",
       "    <tr>\n",
       "      <th>11</th>\n",
       "      <td>Nirmal</td>\n",
       "    </tr>\n",
       "    <tr>\n",
       "      <th>12</th>\n",
       "      <td>Khammam</td>\n",
       "    </tr>\n",
       "    <tr>\n",
       "      <th>13</th>\n",
       "      <td>Jogulamba-Gadwal</td>\n",
       "    </tr>\n",
       "    <tr>\n",
       "      <th>14</th>\n",
       "      <td>Siddipet</td>\n",
       "    </tr>\n",
       "    <tr>\n",
       "      <th>15</th>\n",
       "      <td>Nalgonda</td>\n",
       "    </tr>\n",
       "    <tr>\n",
       "      <th>16</th>\n",
       "      <td>Warangal Rural</td>\n",
       "    </tr>\n",
       "    <tr>\n",
       "      <th>17</th>\n",
       "      <td>Wanaparthy</td>\n",
       "    </tr>\n",
       "    <tr>\n",
       "      <th>18</th>\n",
       "      <td>Komaram Bheem-Asifabad</td>\n",
       "    </tr>\n",
       "    <tr>\n",
       "      <th>19</th>\n",
       "      <td>Nagarkurnool</td>\n",
       "    </tr>\n",
       "    <tr>\n",
       "      <th>20</th>\n",
       "      <td>Mahabubabad</td>\n",
       "    </tr>\n",
       "    <tr>\n",
       "      <th>21</th>\n",
       "      <td>Nizamabad</td>\n",
       "    </tr>\n",
       "    <tr>\n",
       "      <th>22</th>\n",
       "      <td>Rajanna-Siricilla</td>\n",
       "    </tr>\n",
       "    <tr>\n",
       "      <th>23</th>\n",
       "      <td>Medak</td>\n",
       "    </tr>\n",
       "    <tr>\n",
       "      <th>24</th>\n",
       "      <td>Sangareddy</td>\n",
       "    </tr>\n",
       "    <tr>\n",
       "      <th>25</th>\n",
       "      <td>Suryapet</td>\n",
       "    </tr>\n",
       "    <tr>\n",
       "      <th>26</th>\n",
       "      <td>Jayashankar-Bhupalpally</td>\n",
       "    </tr>\n",
       "    <tr>\n",
       "      <th>27</th>\n",
       "      <td>Kamareddy</td>\n",
       "    </tr>\n",
       "    <tr>\n",
       "      <th>28</th>\n",
       "      <td>Jangaon</td>\n",
       "    </tr>\n",
       "    <tr>\n",
       "      <th>29</th>\n",
       "      <td>Warangal Urban</td>\n",
       "    </tr>\n",
       "    <tr>\n",
       "      <th>30</th>\n",
       "      <td>Jagtial</td>\n",
       "    </tr>\n",
       "  </tbody>\n",
       "</table>\n",
       "</div>"
      ],
      "text/plain": [
       "                   District\n",
       "0                Mancherial\n",
       "1                Karimnagar\n",
       "2        Medchal-Malkajgiri\n",
       "3                 Hyderabad\n",
       "4           Yadadri-Bhongir\n",
       "5                Peddapalli\n",
       "6              Mahabubnagar\n",
       "7                 Vikarabad\n",
       "8                Rangareddy\n",
       "9      Bhadradri-Kothagudem\n",
       "10                 Adilabad\n",
       "11                   Nirmal\n",
       "12                  Khammam\n",
       "13         Jogulamba-Gadwal\n",
       "14                 Siddipet\n",
       "15                 Nalgonda\n",
       "16           Warangal Rural\n",
       "17               Wanaparthy\n",
       "18   Komaram Bheem-Asifabad\n",
       "19             Nagarkurnool\n",
       "20              Mahabubabad\n",
       "21                Nizamabad\n",
       "22        Rajanna-Siricilla\n",
       "23                    Medak\n",
       "24               Sangareddy\n",
       "25                 Suryapet\n",
       "26  Jayashankar-Bhupalpally\n",
       "27                Kamareddy\n",
       "28                  Jangaon\n",
       "29           Warangal Urban\n",
       "30                  Jagtial"
      ]
     },
     "execution_count": 45,
     "metadata": {},
     "output_type": "execute_result"
    }
   ],
   "source": [
    "lat.rename(columns={0:'District'})"
   ]
  },
  {
   "cell_type": "code",
   "execution_count": 46,
   "metadata": {},
   "outputs": [],
   "source": [
    "for i in range(1,13):\n",
    "    lat[str(i)]=0\n"
   ]
  },
  {
   "cell_type": "code",
   "execution_count": 47,
   "metadata": {},
   "outputs": [],
   "source": [
    "\n",
    "mon=[]\n",
    "for date in df['Date2']:\n",
    "    date = date.split('-')\n",
    "    mon.append(date[1])\n",
    "df['mon']=mon\n",
    "mon=[]\n",
    "for date in w['Date2']:\n",
    "    date = date.split('-')\n",
    "    mon.append(date[1])\n",
    "w['mon']=mon\n",
    "   \n",
    "    "
   ]
  },
  {
   "cell_type": "code",
   "execution_count": 48,
   "metadata": {},
   "outputs": [],
   "source": [
    "df['avg']=df[['mint (oC)', 'maxt (oC)']].mean(axis=1)\n",
    "w['avg']=w[['mint (oC)', 'maxt (oC)']].mean(axis=1)"
   ]
  },
  {
   "cell_type": "code",
   "execution_count": 49,
   "metadata": {},
   "outputs": [],
   "source": [
    "l=list(lat.columns.values.tolist())\n",
    "l.remove(0)\n",
    "\n"
   ]
  },
  {
   "cell_type": "code",
   "execution_count": 50,
   "metadata": {},
   "outputs": [],
   "source": [
    "#calculating tav and amp\n",
    "def tav(df):\n",
    "    for i in set(df['District']):\n",
    "          d=df[df['District']==i]\n",
    "          x=(d[['avg','mon']].groupby('mon').mean())\n",
    "          lat.loc[lat[0]==i,l]=list(x['avg'])\n",
    "    lat['tav']=lat[l].mean(axis=1)\n",
    "    lat['amp']=lat[l].max(axis=1)-lat[l].min(axis=1)  \n",
    "    return lat"
   ]
  },
  {
   "cell_type": "code",
   "execution_count": 51,
   "metadata": {},
   "outputs": [],
   "source": [
    "tav(w)\n",
    "latw=lat.copy()"
   ]
  },
  {
   "cell_type": "code",
   "execution_count": 52,
   "metadata": {},
   "outputs": [],
   "source": [
    "tav(df)\n",
    "latdf=lat.copy()"
   ]
  },
  {
   "cell_type": "code",
   "execution_count": 53,
   "metadata": {},
   "outputs": [],
   "source": [
    "latitu=pd.read_csv('lat.csv')"
   ]
  },
  {
   "cell_type": "code",
   "execution_count": 54,
   "metadata": {},
   "outputs": [],
   "source": [
    "latitu=latitu[['0','1']]\n",
    "latitu=latitu.rename(columns={'0':'District','1':'Latitude'})"
   ]
  },
  {
   "cell_type": "code",
   "execution_count": 55,
   "metadata": {},
   "outputs": [],
   "source": [
    "latitu.to_csv(r'Latitudes.csv')"
   ]
  },
  {
   "cell_type": "code",
   "execution_count": 56,
   "metadata": {},
   "outputs": [],
   "source": [
    "latdf=latdf.rename(columns={0:'District'})"
   ]
  },
  {
   "cell_type": "code",
   "execution_count": 57,
   "metadata": {},
   "outputs": [
    {
     "data": {
      "text/plain": [
       "18.045992000000002"
      ]
     },
     "execution_count": 57,
     "metadata": {},
     "output_type": "execute_result"
    }
   ],
   "source": [
    "newl = latitu.copy()\n",
    "float(newl.loc[newl.District=='Medak',['Latitude']]['Latitude'])"
   ]
  },
  {
   "cell_type": "code",
   "execution_count": 58,
   "metadata": {},
   "outputs": [],
   "source": [
    "debug = True"
   ]
  },
  {
   "cell_type": "code",
   "execution_count": 59,
   "metadata": {},
   "outputs": [],
   "source": [
    "# creating met format for apsim\n",
    "def debug_print(*args,**kwargs):\n",
    "    global debug\n",
    "    if debug :\n",
    "        print(*args,**kwargs)\n",
    "def generate_mets(df,temps,lats):\n",
    "    dists = df['District'].unique()\n",
    "    met_str = None\n",
    "    with open(\"met_template.txt\",'r') as f :\n",
    "        met_str = f.read()\n",
    "    for dist in dists :\n",
    "        df2=df[df['District']==dist]\n",
    "        debug_print(\"checking district : \",dist)\n",
    "        with open(\"./mets/{}.met\".format(dist),\"w\") as f :\n",
    "            \n",
    "            res = temps.loc[temps.District==dist,['tav','amp']]\n",
    "            tav,amp = float(res['tav']),float(res['amp'])\n",
    "            lat = float(lats.loc[lats.District==dist,['Latitude']]['Latitude'])\n",
    "            f.write(met_str.format(tav,amp,latitude=lat)+'\\n'+'\\n')\n",
    "            f.write(' year    day radn   maxt   mint    rain'+'\\n')\n",
    "            f.write(' ()      () (MJ/m2) (oC)   (oC)    (mm)')\n",
    "            f.write('\\n'+df2.iloc[:,1:].to_string(index=False,col_space=2,header=False))\n",
    "   "
   ]
  },
  {
   "cell_type": "code",
   "execution_count": null,
   "metadata": {},
   "outputs": [],
   "source": [
    "\n"
   ]
  },
  {
   "cell_type": "code",
   "execution_count": 60,
   "metadata": {},
   "outputs": [],
   "source": [
    "df.columns\n",
    "df=df.rename(columns={'Day': 'Day ()'})\n"
   ]
  },
  {
   "cell_type": "code",
   "execution_count": 61,
   "metadata": {},
   "outputs": [],
   "source": [
    "w=w.rename(columns={'Day': 'day ()', 'Year': 'year ()'})"
   ]
  },
  {
   "cell_type": "code",
   "execution_count": 62,
   "metadata": {},
   "outputs": [],
   "source": [
    "df=df.rename(columns={'Day ()': 'day ()'})"
   ]
  },
  {
   "cell_type": "code",
   "execution_count": 63,
   "metadata": {},
   "outputs": [
    {
     "data": {
      "text/plain": [
       "Index(['District', 'rain (mm)', 'mint (oC)', 'maxt (oC)', 'year ()',\n",
       "       'radn (MJ/m2)', 'Date2', 'day ()', 'mon', 'avg'],\n",
       "      dtype='object')"
      ]
     },
     "execution_count": 63,
     "metadata": {},
     "output_type": "execute_result"
    }
   ],
   "source": [
    "df.columns"
   ]
  },
  {
   "cell_type": "code",
   "execution_count": 64,
   "metadata": {},
   "outputs": [
    {
     "data": {
      "text/plain": [
       "Index(['District', 'odate', 'rain (mm)', 'mint (oC)', 'maxt (oC)', 'Date2',\n",
       "       'radn (MJ/m2)', 'day ()', 'year ()', 'mon', 'avg'],\n",
       "      dtype='object')"
      ]
     },
     "execution_count": 64,
     "metadata": {},
     "output_type": "execute_result"
    }
   ],
   "source": [
    "w.columns"
   ]
  },
  {
   "cell_type": "code",
   "execution_count": 65,
   "metadata": {},
   "outputs": [],
   "source": [
    "cols =  [ 'District','year ()','day ()','radn (MJ/m2)', 'maxt (oC)','mint (oC)', 'rain (mm)'] "
   ]
  },
  {
   "cell_type": "code",
   "execution_count": 66,
   "metadata": {},
   "outputs": [],
   "source": [
    "df18=w[cols]\n",
    "df19=df[cols]"
   ]
  },
  {
   "cell_type": "code",
   "execution_count": 67,
   "metadata": {},
   "outputs": [],
   "source": [
    "new_df = pd.concat([df18,df19])"
   ]
  },
  {
   "cell_type": "code",
   "execution_count": 68,
   "metadata": {},
   "outputs": [],
   "source": [
    "new_df.to_csv(r'NEWDF.csv')"
   ]
  },
  {
   "cell_type": "code",
   "execution_count": 69,
   "metadata": {},
   "outputs": [
    {
     "name": "stdout",
     "output_type": "stream",
     "text": [
      "   District year () day () radn (MJ/m2) maxt (oC) mint (oC) rain (mm)\n",
      "0  Adilabad    2018      1      24.6152   30.4368      11.2         0\n",
      "1  Adilabad    2018     32      26.1248   33.6211   12.4263         0\n",
      "2  Adilabad    2018     60      26.3976   37.0474   20.1316         0\n",
      "3  Adilabad    2018     91       26.925   40.4316   26.1474         0\n",
      "4  Adilabad    2018    121      27.6051   43.0842   29.1684         0\n"
     ]
    }
   ],
   "source": [
    "print(str(new_df.head().__repr__()))"
   ]
  },
  {
   "cell_type": "code",
   "execution_count": 70,
   "metadata": {},
   "outputs": [],
   "source": [
    "new_df=new_df.sort_values(['year ()','day ()'])"
   ]
  },
  {
   "cell_type": "code",
   "execution_count": 71,
   "metadata": {},
   "outputs": [
    {
     "data": {
      "text/html": [
       "<div>\n",
       "<style scoped>\n",
       "    .dataframe tbody tr th:only-of-type {\n",
       "        vertical-align: middle;\n",
       "    }\n",
       "\n",
       "    .dataframe tbody tr th {\n",
       "        vertical-align: top;\n",
       "    }\n",
       "\n",
       "    .dataframe thead th {\n",
       "        text-align: right;\n",
       "    }\n",
       "</style>\n",
       "<table border=\"1\" class=\"dataframe\">\n",
       "  <thead>\n",
       "    <tr style=\"text-align: right;\">\n",
       "      <th></th>\n",
       "      <th>District</th>\n",
       "      <th>year ()</th>\n",
       "      <th>day ()</th>\n",
       "      <th>radn (MJ/m2)</th>\n",
       "      <th>maxt (oC)</th>\n",
       "      <th>mint (oC)</th>\n",
       "      <th>rain (mm)</th>\n",
       "    </tr>\n",
       "  </thead>\n",
       "  <tbody>\n",
       "    <tr>\n",
       "      <th>0</th>\n",
       "      <td>Adilabad</td>\n",
       "      <td>2018</td>\n",
       "      <td>1</td>\n",
       "      <td>24.6152</td>\n",
       "      <td>30.4368</td>\n",
       "      <td>11.2</td>\n",
       "      <td>0</td>\n",
       "    </tr>\n",
       "    <tr>\n",
       "      <th>365</th>\n",
       "      <td>Bhadradri-Kothagudem</td>\n",
       "      <td>2018</td>\n",
       "      <td>1</td>\n",
       "      <td>23.5804</td>\n",
       "      <td>32.6846</td>\n",
       "      <td>18.7769</td>\n",
       "      <td>0</td>\n",
       "    </tr>\n",
       "    <tr>\n",
       "      <th>730</th>\n",
       "      <td>Hyderabad</td>\n",
       "      <td>2018</td>\n",
       "      <td>1</td>\n",
       "      <td>23.3033</td>\n",
       "      <td>31.9118</td>\n",
       "      <td>17.5412</td>\n",
       "      <td>0</td>\n",
       "    </tr>\n",
       "    <tr>\n",
       "      <th>1095</th>\n",
       "      <td>Jagtial</td>\n",
       "      <td>2018</td>\n",
       "      <td>1</td>\n",
       "      <td>24.7981</td>\n",
       "      <td>31.5931</td>\n",
       "      <td>13.2759</td>\n",
       "      <td>0</td>\n",
       "    </tr>\n",
       "    <tr>\n",
       "      <th>1460</th>\n",
       "      <td>Jangaon</td>\n",
       "      <td>2018</td>\n",
       "      <td>1</td>\n",
       "      <td>24.5786</td>\n",
       "      <td>32.125</td>\n",
       "      <td>15.245</td>\n",
       "      <td>0</td>\n",
       "    </tr>\n",
       "    <tr>\n",
       "      <th>...</th>\n",
       "      <td>...</td>\n",
       "      <td>...</td>\n",
       "      <td>...</td>\n",
       "      <td>...</td>\n",
       "      <td>...</td>\n",
       "      <td>...</td>\n",
       "      <td>...</td>\n",
       "    </tr>\n",
       "    <tr>\n",
       "      <th>9854</th>\n",
       "      <td>Jayashankar-Bhupalpally</td>\n",
       "      <td>2019</td>\n",
       "      <td>365</td>\n",
       "      <td>18.9289</td>\n",
       "      <td>29.147</td>\n",
       "      <td>18.8258</td>\n",
       "      <td>0</td>\n",
       "    </tr>\n",
       "    <tr>\n",
       "      <th>10219</th>\n",
       "      <td>Kamareddy</td>\n",
       "      <td>2019</td>\n",
       "      <td>365</td>\n",
       "      <td>17.2499</td>\n",
       "      <td>28.1394</td>\n",
       "      <td>19.4027</td>\n",
       "      <td>0</td>\n",
       "    </tr>\n",
       "    <tr>\n",
       "      <th>10584</th>\n",
       "      <td>Jangaon</td>\n",
       "      <td>2019</td>\n",
       "      <td>365</td>\n",
       "      <td>17.5959</td>\n",
       "      <td>28.2222</td>\n",
       "      <td>18.9875</td>\n",
       "      <td>0</td>\n",
       "    </tr>\n",
       "    <tr>\n",
       "      <th>10949</th>\n",
       "      <td>Warangal Urban</td>\n",
       "      <td>2019</td>\n",
       "      <td>365</td>\n",
       "      <td>17.7703</td>\n",
       "      <td>28.6591</td>\n",
       "      <td>19.7091</td>\n",
       "      <td>0</td>\n",
       "    </tr>\n",
       "    <tr>\n",
       "      <th>11314</th>\n",
       "      <td>Jagtial</td>\n",
       "      <td>2019</td>\n",
       "      <td>365</td>\n",
       "      <td>16.5764</td>\n",
       "      <td>27.6083</td>\n",
       "      <td>19.3463</td>\n",
       "      <td>0</td>\n",
       "    </tr>\n",
       "  </tbody>\n",
       "</table>\n",
       "<p>22630 rows × 7 columns</p>\n",
       "</div>"
      ],
      "text/plain": [
       "                      District year () day () radn (MJ/m2) maxt (oC)  \\\n",
       "0                     Adilabad    2018      1      24.6152   30.4368   \n",
       "365       Bhadradri-Kothagudem    2018      1      23.5804   32.6846   \n",
       "730                  Hyderabad    2018      1      23.3033   31.9118   \n",
       "1095                   Jagtial    2018      1      24.7981   31.5931   \n",
       "1460                   Jangaon    2018      1      24.5786    32.125   \n",
       "...                        ...     ...    ...          ...       ...   \n",
       "9854   Jayashankar-Bhupalpally    2019    365      18.9289    29.147   \n",
       "10219                Kamareddy    2019    365      17.2499   28.1394   \n",
       "10584                  Jangaon    2019    365      17.5959   28.2222   \n",
       "10949           Warangal Urban    2019    365      17.7703   28.6591   \n",
       "11314                  Jagtial    2019    365      16.5764   27.6083   \n",
       "\n",
       "      mint (oC) rain (mm)  \n",
       "0          11.2         0  \n",
       "365     18.7769         0  \n",
       "730     17.5412         0  \n",
       "1095    13.2759         0  \n",
       "1460     15.245         0  \n",
       "...         ...       ...  \n",
       "9854    18.8258         0  \n",
       "10219   19.4027         0  \n",
       "10584   18.9875         0  \n",
       "10949   19.7091         0  \n",
       "11314   19.3463         0  \n",
       "\n",
       "[22630 rows x 7 columns]"
      ]
     },
     "execution_count": 71,
     "metadata": {},
     "output_type": "execute_result"
    }
   ],
   "source": [
    "new_df"
   ]
  },
  {
   "cell_type": "code",
   "execution_count": 72,
   "metadata": {},
   "outputs": [],
   "source": [
    "for i in range(3,7):\n",
    "    new_df.iloc[:,i]=new_df.iloc[:,i].astype('float').round(2)"
   ]
  },
  {
   "cell_type": "code",
   "execution_count": 73,
   "metadata": {
    "scrolled": true
   },
   "outputs": [
    {
     "data": {
      "text/html": [
       "<div>\n",
       "<style scoped>\n",
       "    .dataframe tbody tr th:only-of-type {\n",
       "        vertical-align: middle;\n",
       "    }\n",
       "\n",
       "    .dataframe tbody tr th {\n",
       "        vertical-align: top;\n",
       "    }\n",
       "\n",
       "    .dataframe thead th {\n",
       "        text-align: right;\n",
       "    }\n",
       "</style>\n",
       "<table border=\"1\" class=\"dataframe\">\n",
       "  <thead>\n",
       "    <tr style=\"text-align: right;\">\n",
       "      <th></th>\n",
       "      <th>District</th>\n",
       "      <th>year ()</th>\n",
       "      <th>day ()</th>\n",
       "      <th>radn (MJ/m2)</th>\n",
       "      <th>maxt (oC)</th>\n",
       "      <th>mint (oC)</th>\n",
       "      <th>rain (mm)</th>\n",
       "    </tr>\n",
       "  </thead>\n",
       "  <tbody>\n",
       "    <tr>\n",
       "      <th>0</th>\n",
       "      <td>Adilabad</td>\n",
       "      <td>2018</td>\n",
       "      <td>1</td>\n",
       "      <td>24.62</td>\n",
       "      <td>30.44</td>\n",
       "      <td>11.20</td>\n",
       "      <td>0.0</td>\n",
       "    </tr>\n",
       "    <tr>\n",
       "      <th>365</th>\n",
       "      <td>Bhadradri-Kothagudem</td>\n",
       "      <td>2018</td>\n",
       "      <td>1</td>\n",
       "      <td>23.58</td>\n",
       "      <td>32.68</td>\n",
       "      <td>18.78</td>\n",
       "      <td>0.0</td>\n",
       "    </tr>\n",
       "    <tr>\n",
       "      <th>730</th>\n",
       "      <td>Hyderabad</td>\n",
       "      <td>2018</td>\n",
       "      <td>1</td>\n",
       "      <td>23.30</td>\n",
       "      <td>31.91</td>\n",
       "      <td>17.54</td>\n",
       "      <td>0.0</td>\n",
       "    </tr>\n",
       "    <tr>\n",
       "      <th>1095</th>\n",
       "      <td>Jagtial</td>\n",
       "      <td>2018</td>\n",
       "      <td>1</td>\n",
       "      <td>24.80</td>\n",
       "      <td>31.59</td>\n",
       "      <td>13.28</td>\n",
       "      <td>0.0</td>\n",
       "    </tr>\n",
       "    <tr>\n",
       "      <th>1460</th>\n",
       "      <td>Jangaon</td>\n",
       "      <td>2018</td>\n",
       "      <td>1</td>\n",
       "      <td>24.58</td>\n",
       "      <td>32.13</td>\n",
       "      <td>15.24</td>\n",
       "      <td>0.0</td>\n",
       "    </tr>\n",
       "    <tr>\n",
       "      <th>...</th>\n",
       "      <td>...</td>\n",
       "      <td>...</td>\n",
       "      <td>...</td>\n",
       "      <td>...</td>\n",
       "      <td>...</td>\n",
       "      <td>...</td>\n",
       "      <td>...</td>\n",
       "    </tr>\n",
       "    <tr>\n",
       "      <th>9854</th>\n",
       "      <td>Jayashankar-Bhupalpally</td>\n",
       "      <td>2019</td>\n",
       "      <td>365</td>\n",
       "      <td>18.93</td>\n",
       "      <td>29.15</td>\n",
       "      <td>18.83</td>\n",
       "      <td>0.0</td>\n",
       "    </tr>\n",
       "    <tr>\n",
       "      <th>10219</th>\n",
       "      <td>Kamareddy</td>\n",
       "      <td>2019</td>\n",
       "      <td>365</td>\n",
       "      <td>17.25</td>\n",
       "      <td>28.14</td>\n",
       "      <td>19.40</td>\n",
       "      <td>0.0</td>\n",
       "    </tr>\n",
       "    <tr>\n",
       "      <th>10584</th>\n",
       "      <td>Jangaon</td>\n",
       "      <td>2019</td>\n",
       "      <td>365</td>\n",
       "      <td>17.60</td>\n",
       "      <td>28.22</td>\n",
       "      <td>18.99</td>\n",
       "      <td>0.0</td>\n",
       "    </tr>\n",
       "    <tr>\n",
       "      <th>10949</th>\n",
       "      <td>Warangal Urban</td>\n",
       "      <td>2019</td>\n",
       "      <td>365</td>\n",
       "      <td>17.77</td>\n",
       "      <td>28.66</td>\n",
       "      <td>19.71</td>\n",
       "      <td>0.0</td>\n",
       "    </tr>\n",
       "    <tr>\n",
       "      <th>11314</th>\n",
       "      <td>Jagtial</td>\n",
       "      <td>2019</td>\n",
       "      <td>365</td>\n",
       "      <td>16.58</td>\n",
       "      <td>27.61</td>\n",
       "      <td>19.35</td>\n",
       "      <td>0.0</td>\n",
       "    </tr>\n",
       "  </tbody>\n",
       "</table>\n",
       "<p>22630 rows × 7 columns</p>\n",
       "</div>"
      ],
      "text/plain": [
       "                      District year () day ()  radn (MJ/m2)  maxt (oC)  \\\n",
       "0                     Adilabad    2018      1         24.62      30.44   \n",
       "365       Bhadradri-Kothagudem    2018      1         23.58      32.68   \n",
       "730                  Hyderabad    2018      1         23.30      31.91   \n",
       "1095                   Jagtial    2018      1         24.80      31.59   \n",
       "1460                   Jangaon    2018      1         24.58      32.13   \n",
       "...                        ...     ...    ...           ...        ...   \n",
       "9854   Jayashankar-Bhupalpally    2019    365         18.93      29.15   \n",
       "10219                Kamareddy    2019    365         17.25      28.14   \n",
       "10584                  Jangaon    2019    365         17.60      28.22   \n",
       "10949           Warangal Urban    2019    365         17.77      28.66   \n",
       "11314                  Jagtial    2019    365         16.58      27.61   \n",
       "\n",
       "       mint (oC)  rain (mm)  \n",
       "0          11.20        0.0  \n",
       "365        18.78        0.0  \n",
       "730        17.54        0.0  \n",
       "1095       13.28        0.0  \n",
       "1460       15.24        0.0  \n",
       "...          ...        ...  \n",
       "9854       18.83        0.0  \n",
       "10219      19.40        0.0  \n",
       "10584      18.99        0.0  \n",
       "10949      19.71        0.0  \n",
       "11314      19.35        0.0  \n",
       "\n",
       "[22630 rows x 7 columns]"
      ]
     },
     "execution_count": 73,
     "metadata": {},
     "output_type": "execute_result"
    }
   ],
   "source": [
    "new_df"
   ]
  },
  {
   "cell_type": "code",
   "execution_count": 74,
   "metadata": {},
   "outputs": [
    {
     "name": "stdout",
     "output_type": "stream",
     "text": [
      "checking district :  Adilabad\n",
      "checking district :  Bhadradri-Kothagudem\n",
      "checking district :  Hyderabad\n",
      "checking district :  Jagtial\n",
      "checking district :  Jangaon\n",
      "checking district :  Jayashankar-Bhupalpally\n",
      "checking district :  Jogulamba-Gadwal\n",
      "checking district :  Kamareddy\n",
      "checking district :  Karimnagar\n",
      "checking district :  Khammam\n",
      "checking district :  Komaram Bheem-Asifabad\n",
      "checking district :  Mahabubabad\n",
      "checking district :  Mahabubnagar\n",
      "checking district :  Mancherial\n",
      "checking district :  Medak\n",
      "checking district :  Medchal-Malkajgiri\n",
      "checking district :  Nagarkurnool\n",
      "checking district :  Nalgonda\n",
      "checking district :  Nirmal\n",
      "checking district :  Nizamabad\n",
      "checking district :  Peddapalli\n",
      "checking district :  Rajanna-Siricilla\n",
      "checking district :  Rangareddy\n",
      "checking district :  Sangareddy\n",
      "checking district :  Siddipet\n",
      "checking district :  Suryapet\n",
      "checking district :  Vikarabad\n",
      "checking district :  Wanaparthy\n",
      "checking district :  Warangal Rural\n",
      "checking district :  Warangal Urban\n",
      "checking district :  Yadadri-Bhongir\n"
     ]
    }
   ],
   "source": [
    "generate_mets(new_df,latdf,newl)"
   ]
  },
  {
   "cell_type": "code",
   "execution_count": null,
   "metadata": {},
   "outputs": [],
   "source": []
  },
  {
   "cell_type": "code",
   "execution_count": null,
   "metadata": {},
   "outputs": [],
   "source": []
  },
  {
   "cell_type": "code",
   "execution_count": null,
   "metadata": {},
   "outputs": [],
   "source": []
  },
  {
   "cell_type": "code",
   "execution_count": null,
   "metadata": {},
   "outputs": [],
   "source": []
  },
  {
   "cell_type": "code",
   "execution_count": null,
   "metadata": {},
   "outputs": [],
   "source": []
  }
 ],
 "metadata": {
  "kernelspec": {
   "display_name": "Python 3",
   "language": "python",
   "name": "python3"
  },
  "language_info": {
   "codemirror_mode": {
    "name": "ipython",
    "version": 3
   },
   "file_extension": ".py",
   "mimetype": "text/x-python",
   "name": "python",
   "nbconvert_exporter": "python",
   "pygments_lexer": "ipython3",
   "version": "3.6.5"
  }
 },
 "nbformat": 4,
 "nbformat_minor": 2
}
